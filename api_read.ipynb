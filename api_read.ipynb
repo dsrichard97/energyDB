{
 "cells": [
  {
   "cell_type": "markdown",
   "id": "1606086e",
   "metadata": {},
   "source": [
    "##  ENERGY DB - FAST API INTEGRATION"
   ]
  },
  {
   "cell_type": "code",
   "execution_count": null,
   "id": "daf645a8",
   "metadata": {},
   "outputs": [
    {
     "name": "stdout",
     "output_type": "stream",
     "text": [
      "Requirement already satisfied: fastapi in /Users/richarddiaz/anaconda3/lib/python3.10/site-packages (0.103.1)\n",
      "Collecting uvicorn\n",
      "  Downloading uvicorn-0.34.3-py3-none-any.whl (62 kB)\n",
      "\u001b[2K     \u001b[90m━━━━━━━━━━━━━━━━━━━━━━━━━━━━━━━━━━━━━━━━\u001b[0m \u001b[32m62.4/62.4 kB\u001b[0m \u001b[31m2.9 MB/s\u001b[0m eta \u001b[36m0:00:00\u001b[0m\n",
      "\u001b[?25hRequirement already satisfied: anyio<4.0.0,>=3.7.1 in /Users/richarddiaz/anaconda3/lib/python3.10/site-packages (from fastapi) (3.7.1)\n",
      "Requirement already satisfied: typing-extensions>=4.5.0 in /Users/richarddiaz/anaconda3/lib/python3.10/site-packages (from fastapi) (4.8.0)\n",
      "Requirement already satisfied: starlette<0.28.0,>=0.27.0 in /Users/richarddiaz/anaconda3/lib/python3.10/site-packages (from fastapi) (0.27.0)\n",
      "Requirement already satisfied: pydantic!=1.8,!=1.8.1,!=2.0.0,!=2.0.1,!=2.1.0,<3.0.0,>=1.7.4 in /Users/richarddiaz/anaconda3/lib/python3.10/site-packages (from fastapi) (2.3.0)\n",
      "Requirement already satisfied: click>=7.0 in /Users/richarddiaz/anaconda3/lib/python3.10/site-packages (from uvicorn) (8.0.4)\n",
      "Collecting h11>=0.8\n",
      "  Downloading h11-0.16.0-py3-none-any.whl (37 kB)\n",
      "Requirement already satisfied: exceptiongroup in /Users/richarddiaz/anaconda3/lib/python3.10/site-packages (from anyio<4.0.0,>=3.7.1->fastapi) (1.1.3)\n",
      "Requirement already satisfied: sniffio>=1.1 in /Users/richarddiaz/anaconda3/lib/python3.10/site-packages (from anyio<4.0.0,>=3.7.1->fastapi) (1.2.0)\n",
      "Requirement already satisfied: idna>=2.8 in /Users/richarddiaz/anaconda3/lib/python3.10/site-packages (from anyio<4.0.0,>=3.7.1->fastapi) (3.4)\n",
      "Requirement already satisfied: annotated-types>=0.4.0 in /Users/richarddiaz/anaconda3/lib/python3.10/site-packages (from pydantic!=1.8,!=1.8.1,!=2.0.0,!=2.0.1,!=2.1.0,<3.0.0,>=1.7.4->fastapi) (0.5.0)\n",
      "Requirement already satisfied: pydantic-core==2.6.3 in /Users/richarddiaz/anaconda3/lib/python3.10/site-packages (from pydantic!=1.8,!=1.8.1,!=2.0.0,!=2.0.1,!=2.1.0,<3.0.0,>=1.7.4->fastapi) (2.6.3)\n",
      "Installing collected packages: h11, uvicorn\n",
      "Successfully installed h11-0.16.0 uvicorn-0.34.3\n",
      "Note: you may need to restart the kernel to use updated packages.\n"
     ]
    }
   ],
   "source": [
    "#pip install fastapi uvicorn\n"
   ]
  },
  {
   "cell_type": "code",
   "execution_count": 7,
   "id": "27c66c31",
   "metadata": {},
   "outputs": [
    {
     "name": "stdout",
     "output_type": "stream",
     "text": [
      "{'period': '2025-03', 'msn': 'LOACBUS', 'seriesDescription': 'Electrical System Energy Losses Proportioned to the Transportation Sector in Trillion Btu', 'value': '2.738', 'unit': 'Trillion Btu'}\n",
      "{'period': '2025-03', 'msn': 'LOTCBUS', 'seriesDescription': 'Total Electrical Energy System Losses Proportioned to the End-Use Sectors in Trillion Btu', 'value': '1362.4', 'unit': 'Trillion Btu'}\n",
      "{'period': '2025-03', 'msn': 'LOICBUS', 'seriesDescription': 'Electrical System Energy Losses Proportioned to the Industrial Sector in Trillion Btu', 'value': '371.13', 'unit': 'Trillion Btu'}\n",
      "{'period': '2025-03', 'msn': 'LOCCBUS', 'seriesDescription': 'Electrical System Energy Losses Proportioned to the Commercial Sector in Trillion Btu', 'value': '503.481', 'unit': 'Trillion Btu'}\n",
      "{'period': '2025-02', 'msn': 'LOACBUS', 'seriesDescription': 'Electrical System Energy Losses Proportioned to the Transportation Sector in Trillion Btu', 'value': '2.829', 'unit': 'Trillion Btu'}\n"
     ]
    }
   ],
   "source": [
    "import requests\n",
    "\n",
    "API_KEY = \"8QzwRiQujy9SlOlcjWZGkCRragjd6Gv8feAamk2J\"\n",
    "url = \"https://api.eia.gov/v2/total-energy/data/\"\n",
    "\n",
    "params = {\n",
    "    \"api_key\": API_KEY,\n",
    "    \"frequency\": \"monthly\",\n",
    "    \"data[0]\": \"value\",\n",
    "    \"facets[msn][]\": [\"LOACBUS\", \"LOCCBUS\", \"LOICBUS\", \"LOTCBUS\"],\n",
    "    \"start\": \"2000-01\",\n",
    "    \"end\": \"2025-12\",\n",
    "    \"sort[0][column]\": \"period\",\n",
    "    \"sort[0][direction]\": \"desc\",\n",
    "    \"offset\": 0,\n",
    "    \"length\": 5000\n",
    "}\n",
    "\n",
    "response = requests.get(url, params=params)\n",
    "response.raise_for_status()\n",
    "\n",
    "# Show sample\n",
    "data = response.json()[\"response\"][\"data\"]\n",
    "for row in data[:5]:\n",
    "    print(row)\n"
   ]
  },
  {
   "cell_type": "code",
   "execution_count": 8,
   "id": "adc68a8b",
   "metadata": {},
   "outputs": [
    {
     "name": "stdout",
     "output_type": "stream",
     "text": [
      "    period      msn                                  seriesDescription  \\\n",
      "0  2025-03  LOACBUS  Electrical System Energy Losses Proportioned t...   \n",
      "1  2025-03  LOTCBUS  Total Electrical Energy System Losses Proporti...   \n",
      "2  2025-03  LOICBUS  Electrical System Energy Losses Proportioned t...   \n",
      "3  2025-03  LOCCBUS  Electrical System Energy Losses Proportioned t...   \n",
      "4  2025-02  LOACBUS  Electrical System Energy Losses Proportioned t...   \n",
      "\n",
      "     value          unit  \n",
      "0    2.738  Trillion Btu  \n",
      "1   1362.4  Trillion Btu  \n",
      "2   371.13  Trillion Btu  \n",
      "3  503.481  Trillion Btu  \n",
      "4    2.829  Trillion Btu  \n"
     ]
    }
   ],
   "source": [
    "import pandas as pd\n",
    "\n",
    "df = pd.DataFrame(data)\n",
    "print(df.head())"
   ]
  }
 ],
 "metadata": {
  "kernelspec": {
   "display_name": "base",
   "language": "python",
   "name": "python3"
  },
  "language_info": {
   "codemirror_mode": {
    "name": "ipython",
    "version": 3
   },
   "file_extension": ".py",
   "mimetype": "text/x-python",
   "name": "python",
   "nbconvert_exporter": "python",
   "pygments_lexer": "ipython3",
   "version": "3.10.9"
  }
 },
 "nbformat": 4,
 "nbformat_minor": 5
}
