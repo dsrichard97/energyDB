{
 "cells": [
  {
   "cell_type": "markdown",
   "id": "1606086e",
   "metadata": {},
   "source": [
    "##  ENERGY DB - FAST API INTEGRATION"
   ]
  },
  {
   "cell_type": "code",
   "execution_count": 6,
   "id": "daf645a8",
   "metadata": {},
   "outputs": [],
   "source": [
    "#pip install fastapi uvicorn\n",
    "#!pip install requests python-dotenv\n",
    "\n"
   ]
  },
  {
   "cell_type": "code",
   "execution_count": 12,
   "id": "27c66c31",
   "metadata": {},
   "outputs": [
    {
     "name": "stdout",
     "output_type": "stream",
     "text": [
      "{'period': '2025-03', 'msn': 'LOACBUS', 'seriesDescription': 'Electrical System Energy Losses Proportioned to the Transportation Sector in Trillion Btu', 'value': '2.738', 'unit': 'Trillion Btu'}\n",
      "{'period': '2025-03', 'msn': 'LOTCBUS', 'seriesDescription': 'Total Electrical Energy System Losses Proportioned to the End-Use Sectors in Trillion Btu', 'value': '1362.4', 'unit': 'Trillion Btu'}\n",
      "{'period': '2025-03', 'msn': 'LOICBUS', 'seriesDescription': 'Electrical System Energy Losses Proportioned to the Industrial Sector in Trillion Btu', 'value': '371.13', 'unit': 'Trillion Btu'}\n",
      "{'period': '2025-03', 'msn': 'LOCCBUS', 'seriesDescription': 'Electrical System Energy Losses Proportioned to the Commercial Sector in Trillion Btu', 'value': '503.481', 'unit': 'Trillion Btu'}\n",
      "{'period': '2025-02', 'msn': 'LOACBUS', 'seriesDescription': 'Electrical System Energy Losses Proportioned to the Transportation Sector in Trillion Btu', 'value': '2.829', 'unit': 'Trillion Btu'}\n"
     ]
    }
   ],
   "source": [
    "import requests\n",
    "\n",
    "API_KEY =  \"8QzwRiQujy9SlOlcjWZGkCRragjd6Gv8feAamk2J\"\n",
    "url = \"https://api.eia.gov/v2/total-energy/data/\"\n",
    "\n",
    "params = {\n",
    "    \"api_key\": API_KEY,\n",
    "    \"frequency\": \"monthly\",\n",
    "    \"data[0]\": \"value\",\n",
    "    \"facets[msn][]\": [\"LOACBUS\", \"LOCCBUS\", \"LOICBUS\", \"LOTCBUS\"],\n",
    "    \"start\": \"2000-01\",\n",
    "    \"end\": \"2025-12\",\n",
    "    \"sort[0][column]\": \"period\",\n",
    "    \"sort[0][direction]\": \"desc\",\n",
    "    \"offset\": 0,\n",
    "    \"length\": 5000\n",
    "}\n",
    "\n",
    "response = requests.get(url, params=params)\n",
    "response.raise_for_status()\n",
    "\n",
    "# Show sample\n",
    "data = response.json()[\"response\"][\"data\"]\n",
    "for row in data[:5]:\n",
    "    print(row)\n",
    "\n",
    "\n"
   ]
  },
  {
   "cell_type": "code",
   "execution_count": 13,
   "id": "adc68a8b",
   "metadata": {},
   "outputs": [
    {
     "name": "stdout",
     "output_type": "stream",
     "text": [
      "    period      msn                                  seriesDescription  \\\n",
      "0  2025-03  LOACBUS  Electrical System Energy Losses Proportioned t...   \n",
      "1  2025-03  LOTCBUS  Total Electrical Energy System Losses Proporti...   \n",
      "2  2025-03  LOICBUS  Electrical System Energy Losses Proportioned t...   \n",
      "3  2025-03  LOCCBUS  Electrical System Energy Losses Proportioned t...   \n",
      "4  2025-02  LOACBUS  Electrical System Energy Losses Proportioned t...   \n",
      "\n",
      "     value          unit  \n",
      "0    2.738  Trillion Btu  \n",
      "1   1362.4  Trillion Btu  \n",
      "2   371.13  Trillion Btu  \n",
      "3  503.481  Trillion Btu  \n",
      "4    2.829  Trillion Btu  \n"
     ]
    }
   ],
   "source": [
    "import pandas as pd\n",
    "\n",
    "df = pd.DataFrame(data)\n",
    "print(df.head())"
   ]
  },
  {
   "cell_type": "code",
   "execution_count": 14,
   "id": "5be5dbb1",
   "metadata": {},
   "outputs": [],
   "source": [
    "# Save to Excel\n",
    "df.to_excel('output.xlsx', index=False)  # index=False prevents the row numbers from being written"
   ]
  }
 ],
 "metadata": {
  "kernelspec": {
   "display_name": "base",
   "language": "python",
   "name": "python3"
  },
  "language_info": {
   "codemirror_mode": {
    "name": "ipython",
    "version": 3
   },
   "file_extension": ".py",
   "mimetype": "text/x-python",
   "name": "python",
   "nbconvert_exporter": "python",
   "pygments_lexer": "ipython3",
   "version": "3.10.9"
  }
 },
 "nbformat": 4,
 "nbformat_minor": 5
}
